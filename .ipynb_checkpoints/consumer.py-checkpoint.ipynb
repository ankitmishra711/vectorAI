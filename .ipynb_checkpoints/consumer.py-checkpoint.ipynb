{
 "cells": [
  {
   "cell_type": "code",
   "execution_count": null,
   "id": "9e2c4138",
   "metadata": {},
   "outputs": [],
   "source": [
    "from kafka import KafkaConsumer\n",
    "import json\n",
    "from keras.preprocessing.image import load_img\n",
    "from keras.preprocessing.image import img_to_array\n",
    "from keras.models import load_model\n",
    "import numpy as np\n",
    "if __name__ == \"__main__\":\n",
    "    consumer = KafkaConsumer(\n",
    "        \"TestTopic\",\n",
    "        bootstrap_servers='localhost:9092',\n",
    "        auto_offset_reset='earliest',\n",
    "        group_id=\"consumer-group-a\")\n",
    "    print(\"starting the consumer\")\n",
    "    for img in consumer:\n",
    "        img=json.loads(img.value)\n",
    "        models = load_model('fashion_model.h5')\n",
    "        result = models.predict(img)\n",
    "        cls = np.argmax(result,axis=1)\n",
    "        print(\"Image is classified as= {}\".format(json.loads(cls.value)))\n",
    "   "
   ]
  }
 ],
 "metadata": {
  "kernelspec": {
   "display_name": "Python 3 (ipykernel)",
   "language": "python",
   "name": "python3"
  },
  "language_info": {
   "codemirror_mode": {
    "name": "ipython",
    "version": 3
   },
   "file_extension": ".py",
   "mimetype": "text/x-python",
   "name": "python",
   "nbconvert_exporter": "python",
   "pygments_lexer": "ipython3",
   "version": "3.8.12"
  }
 },
 "nbformat": 4,
 "nbformat_minor": 5
}
