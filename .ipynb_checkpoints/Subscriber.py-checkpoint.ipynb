{
 "cells": [
  {
   "cell_type": "code",
   "execution_count": null,
   "id": "26582df5",
   "metadata": {},
   "outputs": [],
   "source": [
    "import os\n",
    "from google.cloud import pubsub_v1\n",
    "from concurrent.futures import TimeoutError\n",
    "\n",
    "credentials_path = '/PATH/TO/YOU/PRIVATE/JSON/FILE/HERE/myFile.privateKey.json'\n",
    "os.environ['GOOGLE_APPLICATION_CREDENTIALS'] = credentials_path\n",
    "\n",
    "\n",
    "timeout = 5.0                                                                       # timeout in seconds\n",
    "\n",
    "subscriber = pubsub_v1.SubscriberClient()\n",
    "subscription_path = 'MY_SUBSCRIPTION_NAME_HERE'\n",
    "\n",
    "\n",
    "def callback(message):\n",
    "    print(f'Received message: {message}')\n",
    "    \n",
    "    img=mesage.data\n",
    "    models = load_model('fashion_model.h5')\n",
    "    result = models.predict(img)\n",
    "    cls = np.argmax(result,axis=1)\n",
    "    print(f'image classifed as : {cls}')\n",
    "    message.ack()           \n",
    "\n",
    "\n",
    "streaming_pull_future = subscriber.subscribe(subscription_path, callback=callback)\n",
    "print(f'Listening for messages on {subscription_path}')\n",
    "\n",
    "\n",
    "with subscriber:                                                # wrap subscriber in a 'with' block to automatically call close() when done\n",
    "    try:\n",
    "        # streaming_pull_future.result(timeout=timeout)\n",
    "        streaming_pull_future.result()                          # going without a timeout will wait & block indefinitely\n",
    "    except TimeoutError:\n",
    "        streaming_pull_future.cancel()                          # trigger the shutdown\n",
    "        streaming_pull_future.result()                          # block until the shutdown is complete\n"
   ]
  }
 ],
 "metadata": {
  "kernelspec": {
   "display_name": "Python 3 (ipykernel)",
   "language": "python",
   "name": "python3"
  },
  "language_info": {
   "codemirror_mode": {
    "name": "ipython",
    "version": 3
   },
   "file_extension": ".py",
   "mimetype": "text/x-python",
   "name": "python",
   "nbconvert_exporter": "python",
   "pygments_lexer": "ipython3",
   "version": "3.8.12"
  }
 },
 "nbformat": 4,
 "nbformat_minor": 5
}
