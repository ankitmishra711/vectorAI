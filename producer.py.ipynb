{
 "cells": [
  {
   "cell_type": "code",
   "execution_count": null,
   "id": "62437bb5",
   "metadata": {},
   "outputs": [],
   "source": [
    "# make a prediction for a new image.\n",
    "from keras.preprocessing.image import load_img\n",
    "from keras.preprocessing.image import img_to_array\n",
    "from keras.models import load_model\n",
    "import numpy as np \n",
    "from kafka import KafkaProducer\n",
    "import json\n",
    "#from data import get_registered_user\n",
    "import time\n",
    "import numpy as np\n",
    "import random\n",
    "\n",
    "def json_serializer(data):\n",
    "    return json.dumps(data).encode(\"utf-8\")\n",
    "\n",
    "# load and prepare the image\n",
    "def load_image(filename):\n",
    "    # load the image\n",
    "    img = load_img(filename, grayscale=True, target_size=(28, 28))\n",
    "    # convert to array\n",
    "    img = img_to_array(img)\n",
    "    # reshape into a single sample with 1 channel\n",
    "    img = img.reshape(1, 28, 28, 1)\n",
    "    # prepare pixel data\n",
    "    img = img.astype('float32')\n",
    "    img = img / 255.0\n",
    "    return img"
   ]
  },
  {
   "cell_type": "code",
   "execution_count": null,
   "id": "ca7d7700",
   "metadata": {},
   "outputs": [],
   "source": [
    "producer = KafkaProducer(bootstrap_servers=['localhost:9092'],\n",
    "                         value_serializer=json_serializer)"
   ]
  },
  {
   "cell_type": "code",
   "execution_count": null,
   "id": "4d769555",
   "metadata": {},
   "outputs": [],
   "source": [
    "if __name__ == \"__main__\":\n",
    "    while 1 == 1:\n",
    "        #registered_user = get_registered_user()\n",
    "        #print(registered_user)\n",
    "        img=load_image('sample_image.png')\n",
    "\n",
    "        producer.send(\"TestTopic\",img)\n",
    "        time.sleep(4)"
   ]
  },
  {
   "cell_type": "code",
   "execution_count": null,
   "id": "5029cb63",
   "metadata": {},
   "outputs": [],
   "source": []
  }
 ],
 "metadata": {
  "kernelspec": {
   "display_name": "Python 3 (ipykernel)",
   "language": "python",
   "name": "python3"
  },
  "language_info": {
   "codemirror_mode": {
    "name": "ipython",
    "version": 3
   },
   "file_extension": ".py",
   "mimetype": "text/x-python",
   "name": "python",
   "nbconvert_exporter": "python",
   "pygments_lexer": "ipython3",
   "version": "3.8.12"
  }
 },
 "nbformat": 4,
 "nbformat_minor": 5
}
